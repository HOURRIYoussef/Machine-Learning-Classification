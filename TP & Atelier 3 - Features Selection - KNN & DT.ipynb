{
 "cells": [
  {
   "cell_type": "code",
   "execution_count": 1,
   "metadata": {},
   "outputs": [],
   "source": [
    "import numpy as np\n",
    "import pandas as pd\n",
    "import seaborn as sns\n",
    "import matplotlib.pyplot as plt\n",
    "from IPython.display import display"
   ]
  },
  {
   "cell_type": "code",
   "execution_count": 2,
   "metadata": {},
   "outputs": [
    {
     "data": {
      "text/html": [
       "<div>\n",
       "<style scoped>\n",
       "    .dataframe tbody tr th:only-of-type {\n",
       "        vertical-align: middle;\n",
       "    }\n",
       "\n",
       "    .dataframe tbody tr th {\n",
       "        vertical-align: top;\n",
       "    }\n",
       "\n",
       "    .dataframe thead th {\n",
       "        text-align: right;\n",
       "    }\n",
       "</style>\n",
       "<table border=\"1\" class=\"dataframe\">\n",
       "  <thead>\n",
       "    <tr style=\"text-align: right;\">\n",
       "      <th></th>\n",
       "      <th>recency</th>\n",
       "      <th>history</th>\n",
       "      <th>used_discount</th>\n",
       "      <th>used_bogo</th>\n",
       "      <th>zip_code</th>\n",
       "      <th>is_referral</th>\n",
       "      <th>channel</th>\n",
       "      <th>offer</th>\n",
       "      <th>conversion</th>\n",
       "    </tr>\n",
       "  </thead>\n",
       "  <tbody>\n",
       "    <tr>\n",
       "      <th>0</th>\n",
       "      <td>0.818182</td>\n",
       "      <td>0.163647</td>\n",
       "      <td>1.0</td>\n",
       "      <td>0.0</td>\n",
       "      <td>0.5</td>\n",
       "      <td>0.0</td>\n",
       "      <td>0.5</td>\n",
       "      <td>0.0</td>\n",
       "      <td>0</td>\n",
       "    </tr>\n",
       "    <tr>\n",
       "      <th>1</th>\n",
       "      <td>0.454545</td>\n",
       "      <td>0.435262</td>\n",
       "      <td>1.0</td>\n",
       "      <td>1.0</td>\n",
       "      <td>0.0</td>\n",
       "      <td>1.0</td>\n",
       "      <td>1.0</td>\n",
       "      <td>1.0</td>\n",
       "      <td>0</td>\n",
       "    </tr>\n",
       "    <tr>\n",
       "      <th>2</th>\n",
       "      <td>0.545455</td>\n",
       "      <td>0.219253</td>\n",
       "      <td>0.0</td>\n",
       "      <td>1.0</td>\n",
       "      <td>0.5</td>\n",
       "      <td>1.0</td>\n",
       "      <td>1.0</td>\n",
       "      <td>0.0</td>\n",
       "      <td>0</td>\n",
       "    </tr>\n",
       "    <tr>\n",
       "      <th>3</th>\n",
       "      <td>0.727273</td>\n",
       "      <td>0.939882</td>\n",
       "      <td>1.0</td>\n",
       "      <td>0.0</td>\n",
       "      <td>0.0</td>\n",
       "      <td>1.0</td>\n",
       "      <td>1.0</td>\n",
       "      <td>0.5</td>\n",
       "      <td>0</td>\n",
       "    </tr>\n",
       "    <tr>\n",
       "      <th>4</th>\n",
       "      <td>0.090909</td>\n",
       "      <td>0.022339</td>\n",
       "      <td>1.0</td>\n",
       "      <td>0.0</td>\n",
       "      <td>1.0</td>\n",
       "      <td>0.0</td>\n",
       "      <td>1.0</td>\n",
       "      <td>0.0</td>\n",
       "      <td>0</td>\n",
       "    </tr>\n",
       "  </tbody>\n",
       "</table>\n",
       "</div>"
      ],
      "text/plain": [
       "    recency   history  used_discount  used_bogo  zip_code  is_referral  \\\n",
       "0  0.818182  0.163647            1.0        0.0       0.5          0.0   \n",
       "1  0.454545  0.435262            1.0        1.0       0.0          1.0   \n",
       "2  0.545455  0.219253            0.0        1.0       0.5          1.0   \n",
       "3  0.727273  0.939882            1.0        0.0       0.0          1.0   \n",
       "4  0.090909  0.022339            1.0        0.0       1.0          0.0   \n",
       "\n",
       "   channel  offer  conversion  \n",
       "0      0.5    0.0           0  \n",
       "1      1.0    1.0           0  \n",
       "2      1.0    0.0           0  \n",
       "3      1.0    0.5           0  \n",
       "4      1.0    0.0           0  "
      ]
     },
     "execution_count": 2,
     "metadata": {},
     "output_type": "execute_result"
    }
   ],
   "source": [
    "data = pd.read_csv(\"data_cleaned.csv\")\n",
    "data.head()"
   ]
  },
  {
   "cell_type": "markdown",
   "metadata": {},
   "source": [
    "# KNN"
   ]
  },
  {
   "cell_type": "markdown",
   "metadata": {},
   "source": [
    "## 3.1 -  Filter : Information Gain"
   ]
  },
  {
   "cell_type": "code",
   "execution_count": 3,
   "metadata": {},
   "outputs": [],
   "source": [
    "X = data.drop(\"conversion\", axis=1)\n",
    "y = data[\"conversion\"]"
   ]
  },
  {
   "cell_type": "code",
   "execution_count": 4,
   "metadata": {},
   "outputs": [],
   "source": [
    "from sklearn.model_selection import train_test_split, cross_val_score\n",
    "from sklearn.neighbors import KNeighborsClassifier\n",
    "from sklearn.metrics import accuracy_score , confusion_matrix, precision_score, recall_score, classification_report\n",
    "from sklearn.feature_selection import mutual_info_classif"
   ]
  },
  {
   "cell_type": "code",
   "execution_count": 5,
   "metadata": {},
   "outputs": [],
   "source": [
    "from sklearn.model_selection import GridSearchCV"
   ]
  },
  {
   "cell_type": "code",
   "execution_count": 6,
   "metadata": {},
   "outputs": [],
   "source": [
    "def informationGain(data):\n",
    "    X = data.drop(\"conversion\", axis=1)\n",
    "    y = data[\"conversion\"]\n",
    "\n",
    "    importances = mutual_info_classif(X, y)\n",
    "    features_importance = pd.Series(importances, X.columns)\n",
    "    features_importance = features_importance.sort_values()\n",
    "    \n",
    "    return features_importance"
   ]
  },
  {
   "cell_type": "code",
   "execution_count": 8,
   "metadata": {},
   "outputs": [
    {
     "data": {
      "image/png": "[encoded data removed]",
      "text/plain": [
       "<Figure size 576x432 with 1 Axes>"
      ]
     },
     "metadata": {
      "needs_background": "light"
     },
     "output_type": "display_data"
    },
    {
     "name": "stdout",
     "output_type": "stream",
     "text": [
      "20% des features\n",
      "['recency', 'offer']\n",
      "Fitting 5 folds for each of 48 candidates, totalling 240 fits\n",
      "Accuracy : 0.7979758692635945\n",
      "Precision : 1.0\n",
      "recall : 0.5959459098678523\n",
      "f1 : 0.7089569375257606\n",
      "----- TEST ------\n"
     ]
    },
    {
     "data": {
      "text/html": [
       "<div>\n",
       "<style scoped>\n",
       "    .dataframe tbody tr th:only-of-type {\n",
       "        vertical-align: middle;\n",
       "    }\n",
       "\n",
       "    .dataframe tbody tr th {\n",
       "        vertical-align: top;\n",
       "    }\n",
       "\n",
       "    .dataframe thead th {\n",
       "        text-align: right;\n",
       "    }\n",
       "</style>\n",
       "<table border=\"1\" class=\"dataframe\">\n",
       "  <thead>\n",
       "    <tr style=\"text-align: right;\">\n",
       "      <th></th>\n",
       "      <th>precision</th>\n",
       "      <th>recall</th>\n",
       "      <th>f1-score</th>\n",
       "      <th>support</th>\n",
       "    </tr>\n",
       "  </thead>\n",
       "  <tbody>\n",
       "    <tr>\n",
       "      <th>0</th>\n",
       "      <td>0.718112</td>\n",
       "      <td>0.962742</td>\n",
       "      <td>0.822625</td>\n",
       "      <td>15567.000000</td>\n",
       "    </tr>\n",
       "    <tr>\n",
       "      <th>1</th>\n",
       "      <td>0.942964</td>\n",
       "      <td>0.619765</td>\n",
       "      <td>0.747943</td>\n",
       "      <td>15472.000000</td>\n",
       "    </tr>\n",
       "    <tr>\n",
       "      <th>accuracy</th>\n",
       "      <td>0.791778</td>\n",
       "      <td>0.791778</td>\n",
       "      <td>0.791778</td>\n",
       "      <td>0.791778</td>\n",
       "    </tr>\n",
       "    <tr>\n",
       "      <th>macro avg</th>\n",
       "      <td>0.830538</td>\n",
       "      <td>0.791253</td>\n",
       "      <td>0.785284</td>\n",
       "      <td>31039.000000</td>\n",
       "    </tr>\n",
       "    <tr>\n",
       "      <th>weighted avg</th>\n",
       "      <td>0.830194</td>\n",
       "      <td>0.791778</td>\n",
       "      <td>0.785398</td>\n",
       "      <td>31039.000000</td>\n",
       "    </tr>\n",
       "  </tbody>\n",
       "</table>\n",
       "</div>"
      ],
      "text/plain": [
       "              precision    recall  f1-score       support\n",
       "0              0.718112  0.962742  0.822625  15567.000000\n",
       "1              0.942964  0.619765  0.747943  15472.000000\n",
       "accuracy       0.791778  0.791778  0.791778      0.791778\n",
       "macro avg      0.830538  0.791253  0.785284  31039.000000\n",
       "weighted avg   0.830194  0.791778  0.785398  31039.000000"
      ]
     },
     "metadata": {},
     "output_type": "display_data"
    },
    {
     "name": "stdout",
     "output_type": "stream",
     "text": [
      "\n",
      "\n",
      "40% des features\n",
      "['recency', 'offer', 'zip_code']\n",
      "Fitting 5 folds for each of 48 candidates, totalling 240 fits\n",
      "Accuracy : 0.8443989820009061\n",
      "Precision : 1.0\n",
      "recall : 0.6887912330214251\n",
      "f1 : 0.7715702686258796\n",
      "----- TEST ------\n"
     ]
    },
    {
     "data": {
      "text/html": [
       "<div>\n",
       "<style scoped>\n",
       "    .dataframe tbody tr th:only-of-type {\n",
       "        vertical-align: middle;\n",
       "    }\n",
       "\n",
       "    .dataframe tbody tr th {\n",
       "        vertical-align: top;\n",
       "    }\n",
       "\n",
       "    .dataframe thead th {\n",
       "        text-align: right;\n",
       "    }\n",
       "</style>\n",
       "<table border=\"1\" class=\"dataframe\">\n",
       "  <thead>\n",
       "    <tr style=\"text-align: right;\">\n",
       "      <th></th>\n",
       "      <th>precision</th>\n",
       "      <th>recall</th>\n",
       "      <th>f1-score</th>\n",
       "      <th>support</th>\n",
       "    </tr>\n",
       "  </thead>\n",
       "  <tbody>\n",
       "    <tr>\n",
       "      <th>0</th>\n",
       "      <td>0.761416</td>\n",
       "      <td>0.966328</td>\n",
       "      <td>0.851721</td>\n",
       "      <td>15443.000000</td>\n",
       "    </tr>\n",
       "    <tr>\n",
       "      <th>1</th>\n",
       "      <td>0.954545</td>\n",
       "      <td>0.700180</td>\n",
       "      <td>0.807812</td>\n",
       "      <td>15596.000000</td>\n",
       "    </tr>\n",
       "    <tr>\n",
       "      <th>accuracy</th>\n",
       "      <td>0.832598</td>\n",
       "      <td>0.832598</td>\n",
       "      <td>0.832598</td>\n",
       "      <td>0.832598</td>\n",
       "    </tr>\n",
       "    <tr>\n",
       "      <th>macro avg</th>\n",
       "      <td>0.857981</td>\n",
       "      <td>0.833254</td>\n",
       "      <td>0.829766</td>\n",
       "      <td>31039.000000</td>\n",
       "    </tr>\n",
       "    <tr>\n",
       "      <th>weighted avg</th>\n",
       "      <td>0.858457</td>\n",
       "      <td>0.832598</td>\n",
       "      <td>0.829658</td>\n",
       "      <td>31039.000000</td>\n",
       "    </tr>\n",
       "  </tbody>\n",
       "</table>\n",
       "</div>"
      ],
      "text/plain": [
       "              precision    recall  f1-score       support\n",
       "0              0.761416  0.966328  0.851721  15443.000000\n",
       "1              0.954545  0.700180  0.807812  15596.000000\n",
       "accuracy       0.832598  0.832598  0.832598      0.832598\n",
       "macro avg      0.857981  0.833254  0.829766  31039.000000\n",
       "weighted avg   0.858457  0.832598  0.829658  31039.000000"
      ]
     },
     "metadata": {},
     "output_type": "display_data"
    },
    {
     "name": "stdout",
     "output_type": "stream",
     "text": [
      "\n",
      "\n",
      "50% des features\n",
      "['recency', 'offer', 'zip_code', 'channel']\n",
      "Fitting 5 folds for each of 48 candidates, totalling 240 fits\n",
      "Accuracy : 0.8590807824556668\n",
      "Precision : 0.9784726310627063\n",
      "recall : 0.7378332522591159\n",
      "f1 : 0.7922371703839692\n",
      "----- TEST ------\n"
     ]
    },
    {
     "data": {
      "text/html": [
       "<div>\n",
       "<style scoped>\n",
       "    .dataframe tbody tr th:only-of-type {\n",
       "        vertical-align: middle;\n",
       "    }\n",
       "\n",
       "    .dataframe tbody tr th {\n",
       "        vertical-align: top;\n",
       "    }\n",
       "\n",
       "    .dataframe thead th {\n",
       "        text-align: right;\n",
       "    }\n",
       "</style>\n",
       "<table border=\"1\" class=\"dataframe\">\n",
       "  <thead>\n",
       "    <tr style=\"text-align: right;\">\n",
       "      <th></th>\n",
       "      <th>precision</th>\n",
       "      <th>recall</th>\n",
       "      <th>f1-score</th>\n",
       "      <th>support</th>\n",
       "    </tr>\n",
       "  </thead>\n",
       "  <tbody>\n",
       "    <tr>\n",
       "      <th>0</th>\n",
       "      <td>0.793251</td>\n",
       "      <td>0.922243</td>\n",
       "      <td>0.852897</td>\n",
       "      <td>15497.000000</td>\n",
       "    </tr>\n",
       "    <tr>\n",
       "      <th>1</th>\n",
       "      <td>0.907464</td>\n",
       "      <td>0.760327</td>\n",
       "      <td>0.827405</td>\n",
       "      <td>15542.000000</td>\n",
       "    </tr>\n",
       "    <tr>\n",
       "      <th>accuracy</th>\n",
       "      <td>0.841168</td>\n",
       "      <td>0.841168</td>\n",
       "      <td>0.841168</td>\n",
       "      <td>0.841168</td>\n",
       "    </tr>\n",
       "    <tr>\n",
       "      <th>macro avg</th>\n",
       "      <td>0.850358</td>\n",
       "      <td>0.841285</td>\n",
       "      <td>0.840151</td>\n",
       "      <td>31039.000000</td>\n",
       "    </tr>\n",
       "    <tr>\n",
       "      <th>weighted avg</th>\n",
       "      <td>0.850440</td>\n",
       "      <td>0.841168</td>\n",
       "      <td>0.840133</td>\n",
       "      <td>31039.000000</td>\n",
       "    </tr>\n",
       "  </tbody>\n",
       "</table>\n",
       "</div>"
      ],
      "text/plain": [
       "              precision    recall  f1-score       support\n",
       "0              0.793251  0.922243  0.852897  15497.000000\n",
       "1              0.907464  0.760327  0.827405  15542.000000\n",
       "accuracy       0.841168  0.841168  0.841168      0.841168\n",
       "macro avg      0.850358  0.841285  0.840151  31039.000000\n",
       "weighted avg   0.850440  0.841168  0.840133  31039.000000"
      ]
     },
     "metadata": {},
     "output_type": "display_data"
    },
    {
     "name": "stdout",
     "output_type": "stream",
     "text": [
      "\n",
      "\n",
      "70% des features\n",
      "['recency', 'offer', 'zip_code', 'channel', 'is_referral', 'used_bogo']\n",
      "Fitting 5 folds for each of 48 candidates, totalling 240 fits\n",
      "Accuracy : 0.8594577444047795\n",
      "Precision : 0.9779363792983442\n",
      "recall : 0.7388384922187153\n",
      "f1 : 0.792977136683145\n",
      "----- TEST ------\n"
     ]
    },
    {
     "data": {
      "text/html": [
       "<div>\n",
       "<style scoped>\n",
       "    .dataframe tbody tr th:only-of-type {\n",
       "        vertical-align: middle;\n",
       "    }\n",
       "\n",
       "    .dataframe tbody tr th {\n",
       "        vertical-align: top;\n",
       "    }\n",
       "\n",
       "    .dataframe thead th {\n",
       "        text-align: right;\n",
       "    }\n",
       "</style>\n",
       "<table border=\"1\" class=\"dataframe\">\n",
       "  <thead>\n",
       "    <tr style=\"text-align: right;\">\n",
       "      <th></th>\n",
       "      <th>precision</th>\n",
       "      <th>recall</th>\n",
       "      <th>f1-score</th>\n",
       "      <th>support</th>\n",
       "    </tr>\n",
       "  </thead>\n",
       "  <tbody>\n",
       "    <tr>\n",
       "      <th>0</th>\n",
       "      <td>0.788744</td>\n",
       "      <td>0.960044</td>\n",
       "      <td>0.866004</td>\n",
       "      <td>15517.000000</td>\n",
       "    </tr>\n",
       "    <tr>\n",
       "      <th>1</th>\n",
       "      <td>0.948980</td>\n",
       "      <td>0.742945</td>\n",
       "      <td>0.833418</td>\n",
       "      <td>15522.000000</td>\n",
       "    </tr>\n",
       "    <tr>\n",
       "      <th>accuracy</th>\n",
       "      <td>0.851477</td>\n",
       "      <td>0.851477</td>\n",
       "      <td>0.851477</td>\n",
       "      <td>0.851477</td>\n",
       "    </tr>\n",
       "    <tr>\n",
       "      <th>macro avg</th>\n",
       "      <td>0.868862</td>\n",
       "      <td>0.851495</td>\n",
       "      <td>0.849711</td>\n",
       "      <td>31039.000000</td>\n",
       "    </tr>\n",
       "    <tr>\n",
       "      <th>weighted avg</th>\n",
       "      <td>0.868874</td>\n",
       "      <td>0.851477</td>\n",
       "      <td>0.849708</td>\n",
       "      <td>31039.000000</td>\n",
       "    </tr>\n",
       "  </tbody>\n",
       "</table>\n",
       "</div>"
      ],
      "text/plain": [
       "              precision    recall  f1-score       support\n",
       "0              0.788744  0.960044  0.866004  15517.000000\n",
       "1              0.948980  0.742945  0.833418  15522.000000\n",
       "accuracy       0.851477  0.851477  0.851477      0.851477\n",
       "macro avg      0.868862  0.851495  0.849711  31039.000000\n",
       "weighted avg   0.868874  0.851477  0.849708  31039.000000"
      ]
     },
     "metadata": {},
     "output_type": "display_data"
    },
    {
     "name": "stdout",
     "output_type": "stream",
     "text": [
      "\n",
      "\n"
     ]
    }
   ],
   "source": [
    "features_importance = informationGain(data)\n",
    "plt.figure(figsize=(8, 6))\n",
    "features_importance.plot(kind=\"barh\", color=\"teal\", title=\"Features Importance\")\n",
    "plt.show()\n",
    "\n",
    "for percent in [20, 40, 50, 70]:\n",
    "    \n",
    "    features = list(features_importance.index)[::-1]\n",
    "    n = round((percent * len(features))/100)\n",
    "    features = features[:n]\n",
    "    \n",
    "    X = data[features]\n",
    "    y = data[\"conversion\"]\n",
    "    \n",
    "    grid_param = {\n",
    "        'n_neighbors': list(range(2,10)),\n",
    "        'weights' : ['uniform', 'distance'],\n",
    "        'metric' : ['euclidean', 'manhattan', 'minkowski']\n",
    "    } \n",
    "    \n",
    "    print(\"{}% des features\".format(percent))\n",
    "    print(features)\n",
    "    \n",
    "    model = KNeighborsClassifier()\n",
    "    grid = GridSearchCV(model, grid_param, cv=5, scoring='accuracy', verbose=1, n_jobs=-1)\n",
    "    grid_search=grid.fit(X, y)\n",
    "    \n",
    "    model = grid.best_estimator_\n",
    "    \n",
    "    acc = cross_val_score(model, X, y, cv=5, scoring='accuracy').mean()\n",
    "    f1 = cross_val_score(model, X, y, cv=5, scoring='f1').mean()\n",
    "    precision = cross_val_score(model, X, y, cv=5, scoring='precision').mean()\n",
    "    recall = cross_val_score(model, X, y, cv=5, scoring='recall').mean()\n",
    "\n",
    "    print(\"Accuracy : {}\".format(acc))\n",
    "    print(\"Precision : {}\".format(precision))\n",
    "    print(\"recall : {}\".format(recall))\n",
    "    print(\"f1 : {}\".format(f1))\n",
    "\n",
    "    model = grid.best_estimator_\n",
    "    X_train, X_test, y_train, y_test = train_test_split(X, y, test_size=0.3)\n",
    "    model.fit(X_train, y_train)\n",
    "\n",
    "    y_pred_test = model.predict(X_test)\n",
    "    print(\"----- TEST ------\")\n",
    "    report = classification_report(y_test,y_pred_test, output_dict=True)\n",
    "    test_report = pd.DataFrame(report).transpose()\n",
    "    display(test_report)\n",
    "\n",
    "    print(\"\\n\")"
   ]
  },
  {
   "cell_type": "markdown",
   "metadata": {},
   "source": [
    "## 3.2. Filter : Variance threshold"
   ]
  },
  {
   "cell_type": "code",
   "execution_count": 9,
   "metadata": {},
   "outputs": [],
   "source": [
    "X = data.drop(\"conversion\", axis=1)\n",
    "y = data[\"conversion\"]"
   ]
  },
  {
   "cell_type": "code",
   "execution_count": 10,
   "metadata": {},
   "outputs": [],
   "source": [
    "from sklearn.feature_selection import VarianceThreshold "
   ]
  },
  {
   "cell_type": "code",
   "execution_count": 11,
   "metadata": {},
   "outputs": [
    {
     "data": {
      "text/plain": [
       "array([ True,  True,  True,  True,  True,  True,  True,  True])"
      ]
     },
     "execution_count": 11,
     "metadata": {},
     "output_type": "execute_result"
    }
   ],
   "source": [
    "v_threshold = VarianceThreshold(threshold=0)\n",
    "v_threshold.fit(X)\n",
    "v_threshold.get_support()"
   ]
  },
  {
   "cell_type": "markdown",
   "metadata": {},
   "source": [
    "## 3.3. Wrapper : Exhaustive feature selection"
   ]
  },
  {
   "cell_type": "code",
   "execution_count": 12,
   "metadata": {},
   "outputs": [],
   "source": [
    "from mlxtend.feature_selection import ExhaustiveFeatureSelector as EFS"
   ]
  },
  {
   "cell_type": "code",
   "execution_count": 13,
   "metadata": {},
   "outputs": [
    {
     "name": "stderr",
     "output_type": "stream",
     "text": [
      "Features: 255/255"
     ]
    },
    {
     "name": "stdout",
     "output_type": "stream",
     "text": [
      "Best accuracy score: 0.86\n",
      "Best subset (corresponding names): ('recency', 'zip_code', 'is_referral', 'channel', 'offer')\n"
     ]
    }
   ],
   "source": [
    "knn = KNeighborsClassifier(metric='euclidean', n_neighbors=2, weights='distance')\n",
    "\n",
    "efs = EFS(estimator=knn, min_features=1, max_features=8, scoring='accuracy', cv=5)\n",
    "efs = efs.fit(X, y)\n",
    "\n",
    "print('Best accuracy score: %.2f' % efs.best_score_)\n",
    "print('Best subset (corresponding names):', efs.best_feature_names_)"
   ]
  },
  {
   "cell_type": "code",
   "execution_count": 14,
   "metadata": {},
   "outputs": [
    {
     "name": "stdout",
     "output_type": "stream",
     "text": [
      "Number of features before transformation: 8\n",
      "Number of features after transformation: 5\n"
     ]
    }
   ],
   "source": [
    "X_new = efs.transform(X)\n",
    "print('Number of features before transformation: {}'.format(X.shape[1]))\n",
    "print('Number of features after transformation: {}'.format(X_new.shape[1]))"
   ]
  },
  {
   "cell_type": "code",
   "execution_count": 15,
   "metadata": {},
   "outputs": [
    {
     "data": {
      "text/html": [
       "<div>\n",
       "<style scoped>\n",
       "    .dataframe tbody tr th:only-of-type {\n",
       "        vertical-align: middle;\n",
       "    }\n",
       "\n",
       "    .dataframe tbody tr th {\n",
       "        vertical-align: top;\n",
       "    }\n",
       "\n",
       "    .dataframe thead th {\n",
       "        text-align: right;\n",
       "    }\n",
       "</style>\n",
       "<table border=\"1\" class=\"dataframe\">\n",
       "  <thead>\n",
       "    <tr style=\"text-align: right;\">\n",
       "      <th></th>\n",
       "      <th>feature_idx</th>\n",
       "      <th>cv_scores</th>\n",
       "      <th>avg_score</th>\n",
       "      <th>feature_names</th>\n",
       "      <th>ci_bound</th>\n",
       "      <th>std_dev</th>\n",
       "      <th>std_err</th>\n",
       "    </tr>\n",
       "  </thead>\n",
       "  <tbody>\n",
       "    <tr>\n",
       "      <th>196</th>\n",
       "      <td>(0, 4, 5, 6, 7)</td>\n",
       "      <td>[0.5725124438215822, 0.9343739428792345, 0.936...</td>\n",
       "      <td>0.863759</td>\n",
       "      <td>(recency, zip_code, is_referral, channel, offer)</td>\n",
       "      <td>0.187176</td>\n",
       "      <td>0.14563</td>\n",
       "      <td>0.072815</td>\n",
       "    </tr>\n",
       "    <tr>\n",
       "      <th>216</th>\n",
       "      <td>(2, 4, 5, 6, 7)</td>\n",
       "      <td>[0.57140095684531, 0.9395930991156429, 0.93847...</td>\n",
       "      <td>0.863517</td>\n",
       "      <td>(used_discount, zip_code, is_referral, channel...</td>\n",
       "      <td>0.187752</td>\n",
       "      <td>0.146077</td>\n",
       "      <td>0.073039</td>\n",
       "    </tr>\n",
       "    <tr>\n",
       "      <th>189</th>\n",
       "      <td>(0, 2, 4, 5, 7)</td>\n",
       "      <td>[0.5710626782003576, 0.9336490600686222, 0.932...</td>\n",
       "      <td>0.862261</td>\n",
       "      <td>(recency, used_discount, zip_code, is_referral...</td>\n",
       "      <td>0.187159</td>\n",
       "      <td>0.145616</td>\n",
       "      <td>0.072808</td>\n",
       "    </tr>\n",
       "    <tr>\n",
       "      <th>193</th>\n",
       "      <td>(0, 3, 4, 5, 7)</td>\n",
       "      <td>[0.5708693761175276, 0.9318126902817377, 0.935...</td>\n",
       "      <td>0.861787</td>\n",
       "      <td>(recency, used_bogo, zip_code, is_referral, of...</td>\n",
       "      <td>0.186972</td>\n",
       "      <td>0.14547</td>\n",
       "      <td>0.072735</td>\n",
       "    </tr>\n",
       "    <tr>\n",
       "      <th>245</th>\n",
       "      <td>(2, 3, 4, 5, 6, 7)</td>\n",
       "      <td>[0.5721741651766298, 0.9408495626540376, 0.925...</td>\n",
       "      <td>0.861487</td>\n",
       "      <td>(used_discount, used_bogo, zip_code, is_referr...</td>\n",
       "      <td>0.186043</td>\n",
       "      <td>0.144748</td>\n",
       "      <td>0.072374</td>\n",
       "    </tr>\n",
       "    <tr>\n",
       "      <th>192</th>\n",
       "      <td>(0, 3, 4, 5, 6)</td>\n",
       "      <td>[0.571304305803895, 0.9292031121635336, 0.9320...</td>\n",
       "      <td>0.859796</td>\n",
       "      <td>(recency, used_bogo, zip_code, is_referral, ch...</td>\n",
       "      <td>0.185409</td>\n",
       "      <td>0.144255</td>\n",
       "      <td>0.072127</td>\n",
       "    </tr>\n",
       "    <tr>\n",
       "      <th>217</th>\n",
       "      <td>(3, 4, 5, 6, 7)</td>\n",
       "      <td>[0.5713526313246026, 0.9252404194655197, 0.925...</td>\n",
       "      <td>0.859419</td>\n",
       "      <td>(used_bogo, zip_code, is_referral, channel, of...</td>\n",
       "      <td>0.185265</td>\n",
       "      <td>0.144142</td>\n",
       "      <td>0.072071</td>\n",
       "    </tr>\n",
       "    <tr>\n",
       "      <th>190</th>\n",
       "      <td>(0, 2, 4, 6, 7)</td>\n",
       "      <td>[0.5713526313246026, 0.929444739767071, 0.9313...</td>\n",
       "      <td>0.859284</td>\n",
       "      <td>(recency, used_discount, zip_code, channel, of...</td>\n",
       "      <td>0.185042</td>\n",
       "      <td>0.143969</td>\n",
       "      <td>0.071985</td>\n",
       "    </tr>\n",
       "    <tr>\n",
       "      <th>194</th>\n",
       "      <td>(0, 3, 4, 6, 7)</td>\n",
       "      <td>[0.571690909969555, 0.9325858986130575, 0.9294...</td>\n",
       "      <td>0.858578</td>\n",
       "      <td>(recency, used_bogo, zip_code, channel, offer)</td>\n",
       "      <td>0.184374</td>\n",
       "      <td>0.143449</td>\n",
       "      <td>0.071724</td>\n",
       "    </tr>\n",
       "    <tr>\n",
       "      <th>125</th>\n",
       "      <td>(0, 4, 6, 7)</td>\n",
       "      <td>[0.5714492823660174, 0.9262069298796695, 0.928...</td>\n",
       "      <td>0.858549</td>\n",
       "      <td>(recency, zip_code, channel, offer)</td>\n",
       "      <td>0.184542</td>\n",
       "      <td>0.14358</td>\n",
       "      <td>0.07179</td>\n",
       "    </tr>\n",
       "  </tbody>\n",
       "</table>\n",
       "</div>"
      ],
      "text/plain": [
       "            feature_idx                                          cv_scores  \\\n",
       "196     (0, 4, 5, 6, 7)  [0.5725124438215822, 0.9343739428792345, 0.936...   \n",
       "216     (2, 4, 5, 6, 7)  [0.57140095684531, 0.9395930991156429, 0.93847...   \n",
       "189     (0, 2, 4, 5, 7)  [0.5710626782003576, 0.9336490600686222, 0.932...   \n",
       "193     (0, 3, 4, 5, 7)  [0.5708693761175276, 0.9318126902817377, 0.935...   \n",
       "245  (2, 3, 4, 5, 6, 7)  [0.5721741651766298, 0.9408495626540376, 0.925...   \n",
       "192     (0, 3, 4, 5, 6)  [0.571304305803895, 0.9292031121635336, 0.9320...   \n",
       "217     (3, 4, 5, 6, 7)  [0.5713526313246026, 0.9252404194655197, 0.925...   \n",
       "190     (0, 2, 4, 6, 7)  [0.5713526313246026, 0.929444739767071, 0.9313...   \n",
       "194     (0, 3, 4, 6, 7)  [0.571690909969555, 0.9325858986130575, 0.9294...   \n",
       "125        (0, 4, 6, 7)  [0.5714492823660174, 0.9262069298796695, 0.928...   \n",
       "\n",
       "    avg_score                                      feature_names  ci_bound  \\\n",
       "196  0.863759   (recency, zip_code, is_referral, channel, offer)  0.187176   \n",
       "216  0.863517  (used_discount, zip_code, is_referral, channel...  0.187752   \n",
       "189  0.862261  (recency, used_discount, zip_code, is_referral...  0.187159   \n",
       "193  0.861787  (recency, used_bogo, zip_code, is_referral, of...  0.186972   \n",
       "245  0.861487  (used_discount, used_bogo, zip_code, is_referr...  0.186043   \n",
       "192  0.859796  (recency, used_bogo, zip_code, is_referral, ch...  0.185409   \n",
       "217  0.859419  (used_bogo, zip_code, is_referral, channel, of...  0.185265   \n",
       "190  0.859284  (recency, used_discount, zip_code, channel, of...  0.185042   \n",
       "194  0.858578     (recency, used_bogo, zip_code, channel, offer)  0.184374   \n",
       "125  0.858549                (recency, zip_code, channel, offer)  0.184542   \n",
       "\n",
       "      std_dev   std_err  \n",
       "196   0.14563  0.072815  \n",
       "216  0.146077  0.073039  \n",
       "189  0.145616  0.072808  \n",
       "193   0.14547  0.072735  \n",
       "245  0.144748  0.072374  \n",
       "192  0.144255  0.072127  \n",
       "217  0.144142  0.072071  \n",
       "190  0.143969  0.071985  \n",
       "194  0.143449  0.071724  \n",
       "125   0.14358   0.07179  "
      ]
     },
     "execution_count": 15,
     "metadata": {},
     "output_type": "execute_result"
    }
   ],
   "source": [
    "efs_results = pd.DataFrame.from_dict(efs.get_metric_dict()).T\n",
    "efs_results.sort_values(by='avg_score', ascending=False, inplace=True)\n",
    "efs_results.head(10)"
   ]
  },
  {
   "cell_type": "code",
   "execution_count": 25,
   "metadata": {},
   "outputs": [
    {
     "name": "stdout",
     "output_type": "stream",
     "text": [
      "Fitting 5 folds for each of 48 candidates, totalling 240 fits\n",
      "Accuracy : 0.8637588740925313\n",
      "Precision : 0.9772481124098205\n",
      "recall : 0.7486005080501494\n",
      "f1 : 0.7979543258269677\n",
      "----- TEST ------\n"
     ]
    },
    {
     "data": {
      "text/html": [
       "<div>\n",
       "<style scoped>\n",
       "    .dataframe tbody tr th:only-of-type {\n",
       "        vertical-align: middle;\n",
       "    }\n",
       "\n",
       "    .dataframe tbody tr th {\n",
       "        vertical-align: top;\n",
       "    }\n",
       "\n",
       "    .dataframe thead th {\n",
       "        text-align: right;\n",
       "    }\n",
       "</style>\n",
       "<table border=\"1\" class=\"dataframe\">\n",
       "  <thead>\n",
       "    <tr style=\"text-align: right;\">\n",
       "      <th></th>\n",
       "      <th>precision</th>\n",
       "      <th>recall</th>\n",
       "      <th>f1-score</th>\n",
       "      <th>support</th>\n",
       "    </tr>\n",
       "  </thead>\n",
       "  <tbody>\n",
       "    <tr>\n",
       "      <th>0</th>\n",
       "      <td>0.791201</td>\n",
       "      <td>0.971094</td>\n",
       "      <td>0.871966</td>\n",
       "      <td>15464.000000</td>\n",
       "    </tr>\n",
       "    <tr>\n",
       "      <th>1</th>\n",
       "      <td>0.962932</td>\n",
       "      <td>0.745554</td>\n",
       "      <td>0.840414</td>\n",
       "      <td>15575.000000</td>\n",
       "    </tr>\n",
       "    <tr>\n",
       "      <th>accuracy</th>\n",
       "      <td>0.857921</td>\n",
       "      <td>0.857921</td>\n",
       "      <td>0.857921</td>\n",
       "      <td>0.857921</td>\n",
       "    </tr>\n",
       "    <tr>\n",
       "      <th>macro avg</th>\n",
       "      <td>0.877067</td>\n",
       "      <td>0.858324</td>\n",
       "      <td>0.856190</td>\n",
       "      <td>31039.000000</td>\n",
       "    </tr>\n",
       "    <tr>\n",
       "      <th>weighted avg</th>\n",
       "      <td>0.877374</td>\n",
       "      <td>0.857921</td>\n",
       "      <td>0.856134</td>\n",
       "      <td>31039.000000</td>\n",
       "    </tr>\n",
       "  </tbody>\n",
       "</table>\n",
       "</div>"
      ],
      "text/plain": [
       "              precision    recall  f1-score       support\n",
       "0              0.791201  0.971094  0.871966  15464.000000\n",
       "1              0.962932  0.745554  0.840414  15575.000000\n",
       "accuracy       0.857921  0.857921  0.857921      0.857921\n",
       "macro avg      0.877067  0.858324  0.856190  31039.000000\n",
       "weighted avg   0.877374  0.857921  0.856134  31039.000000"
      ]
     },
     "metadata": {},
     "output_type": "display_data"
    }
   ],
   "source": [
    "X = data[[\"recency\", \"zip_code\", \"is_referral\",\"channel\", \"offer\"]]\n",
    "y = data[\"conversion\"]\n",
    "\n",
    "\n",
    "model = KNeighborsClassifier()\n",
    "grid = GridSearchCV(model, grid_param, cv=5, scoring='accuracy', verbose=1, n_jobs=-1)\n",
    "grid_search=grid.fit(X, y)\n",
    "\n",
    "model = grid.best_estimator_\n",
    "\n",
    "acc = cross_val_score(model, X, y, cv=5, scoring='accuracy').mean()\n",
    "f1 = cross_val_score(model, X, y, cv=5, scoring='f1').mean()\n",
    "precision = cross_val_score(model, X, y, cv=5, scoring='precision').mean()\n",
    "recall = cross_val_score(model, X, y, cv=5, scoring='recall').mean()\n",
    "\n",
    "print(\"Accuracy : {}\".format(acc))\n",
    "print(\"Precision : {}\".format(precision))\n",
    "print(\"recall : {}\".format(recall))\n",
    "print(\"f1 : {}\".format(f1))\n",
    "\n",
    "model = grid.best_estimator_\n",
    "X_train, X_test, y_train, y_test = train_test_split(X, y, test_size=0.3)\n",
    "model.fit(X_train, y_train)\n",
    "\n",
    "y_pred_test = model.predict(X_test)\n",
    "print(\"----- TEST ------\")\n",
    "report = classification_report(y_test,y_pred_test, output_dict=True)\n",
    "test_report = pd.DataFrame(report).transpose()\n",
    "display(test_report)"
   ]
  },
  {
   "cell_type": "code",
   "execution_count": 16,
   "metadata": {},
   "outputs": [],
   "source": [
    "efs_results = efs_results[[\"feature_names\", \"avg_score\"]].head(6)\n",
    "efs_results.to_excel('features-selection-wrapper.xlsx', index=False, engine='xlsxwriter') "
   ]
  },
  {
   "cell_type": "markdown",
   "metadata": {},
   "source": [
    "# Decision Trees"
   ]
  },
  {
   "cell_type": "code",
   "execution_count": 17,
   "metadata": {},
   "outputs": [],
   "source": [
    "from sklearn.tree import DecisionTreeClassifier"
   ]
  },
  {
   "cell_type": "code",
   "execution_count": 18,
   "metadata": {},
   "outputs": [],
   "source": [
    "X = data.drop(\"conversion\", axis=1)\n",
    "y = data[\"conversion\"]"
   ]
  },
  {
   "cell_type": "markdown",
   "metadata": {},
   "source": [
    "## Default"
   ]
  },
  {
   "cell_type": "code",
   "execution_count": 19,
   "metadata": {},
   "outputs": [
    {
     "name": "stdout",
     "output_type": "stream",
     "text": [
      "Accuracy : 0.8483613925742871\n",
      "Precision : 0.8632995033569311\n",
      "recall : 0.8375415289343785\n",
      "f1 : 0.8148858586560392\n",
      "----- TEST ------\n"
     ]
    },
    {
     "data": {
      "text/html": [
       "<div>\n",
       "<style scoped>\n",
       "    .dataframe tbody tr th:only-of-type {\n",
       "        vertical-align: middle;\n",
       "    }\n",
       "\n",
       "    .dataframe tbody tr th {\n",
       "        vertical-align: top;\n",
       "    }\n",
       "\n",
       "    .dataframe thead th {\n",
       "        text-align: right;\n",
       "    }\n",
       "</style>\n",
       "<table border=\"1\" class=\"dataframe\">\n",
       "  <thead>\n",
       "    <tr style=\"text-align: right;\">\n",
       "      <th></th>\n",
       "      <th>precision</th>\n",
       "      <th>recall</th>\n",
       "      <th>f1-score</th>\n",
       "      <th>support</th>\n",
       "    </tr>\n",
       "  </thead>\n",
       "  <tbody>\n",
       "    <tr>\n",
       "      <th>0</th>\n",
       "      <td>0.846361</td>\n",
       "      <td>0.852439</td>\n",
       "      <td>0.849389</td>\n",
       "      <td>15458.000000</td>\n",
       "    </tr>\n",
       "    <tr>\n",
       "      <th>1</th>\n",
       "      <td>0.852553</td>\n",
       "      <td>0.846480</td>\n",
       "      <td>0.849506</td>\n",
       "      <td>15581.000000</td>\n",
       "    </tr>\n",
       "    <tr>\n",
       "      <th>accuracy</th>\n",
       "      <td>0.849447</td>\n",
       "      <td>0.849447</td>\n",
       "      <td>0.849447</td>\n",
       "      <td>0.849447</td>\n",
       "    </tr>\n",
       "    <tr>\n",
       "      <th>macro avg</th>\n",
       "      <td>0.849457</td>\n",
       "      <td>0.849459</td>\n",
       "      <td>0.849447</td>\n",
       "      <td>31039.000000</td>\n",
       "    </tr>\n",
       "    <tr>\n",
       "      <th>weighted avg</th>\n",
       "      <td>0.849470</td>\n",
       "      <td>0.849447</td>\n",
       "      <td>0.849448</td>\n",
       "      <td>31039.000000</td>\n",
       "    </tr>\n",
       "  </tbody>\n",
       "</table>\n",
       "</div>"
      ],
      "text/plain": [
       "              precision    recall  f1-score       support\n",
       "0              0.846361  0.852439  0.849389  15458.000000\n",
       "1              0.852553  0.846480  0.849506  15581.000000\n",
       "accuracy       0.849447  0.849447  0.849447      0.849447\n",
       "macro avg      0.849457  0.849459  0.849447  31039.000000\n",
       "weighted avg   0.849470  0.849447  0.849448  31039.000000"
      ]
     },
     "metadata": {},
     "output_type": "display_data"
    }
   ],
   "source": [
    "X_train, X_test, y_train, y_test = train_test_split(X, y, test_size=0.3)\n",
    "\n",
    "\n",
    "model = DecisionTreeClassifier()\n",
    "\n",
    "acc = cross_val_score(model, X, y, cv=5, scoring='accuracy').mean()\n",
    "f1 = cross_val_score(model, X, y, cv=5, scoring='f1').mean()\n",
    "precision = cross_val_score(model, X, y, cv=5, scoring='precision').mean()\n",
    "recall = cross_val_score(model, X, y, cv=5, scoring='recall').mean()\n",
    "\n",
    "print(\"Accuracy : {}\".format(acc))\n",
    "print(\"Precision : {}\".format(precision))\n",
    "print(\"recall : {}\".format(recall))\n",
    "print(\"f1 : {}\".format(f1))\n",
    "\n",
    "model = DecisionTreeClassifier()\n",
    "model.fit(X_train, y_train)\n",
    "\n",
    "y_pred_test = model.predict(X_test)\n",
    "print(\"----- TEST ------\")\n",
    "\n",
    "report = classification_report(y_test,y_pred_test, output_dict=True)\n",
    "test_report = pd.DataFrame(report).transpose()\n",
    "display(test_report)"
   ]
  },
  {
   "cell_type": "code",
   "execution_count": 20,
   "metadata": {},
   "outputs": [],
   "source": [
    "from sklearn.model_selection import cross_val_score\n",
    "from sklearn import tree"
   ]
  },
  {
   "cell_type": "code",
   "execution_count": 21,
   "metadata": {},
   "outputs": [
    {
     "data": {
      "text/plain": [
       "0.8489413161052463"
      ]
     },
     "execution_count": 21,
     "metadata": {},
     "output_type": "execute_result"
    }
   ],
   "source": [
    "DT = DecisionTreeClassifier()\n",
    "cross_val_score(DT, X, y, cv=5).mean()"
   ]
  },
  {
   "cell_type": "code",
   "execution_count": 22,
   "metadata": {},
   "outputs": [],
   "source": [
    "from sklearn.model_selection import GridSearchCV"
   ]
  },
  {
   "cell_type": "code",
   "execution_count": 23,
   "metadata": {},
   "outputs": [
    {
     "name": "stdout",
     "output_type": "stream",
     "text": [
      "Fitting 5 folds for each of 98 candidates, totalling 490 fits\n",
      "0.8655273503997002\n",
      "{'criterion': 'entropy', 'max_depth': 25, 'min_samples_leaf': 2}\n",
      "DecisionTreeClassifier(criterion='entropy', max_depth=25, min_samples_leaf=2)\n"
     ]
    }
   ],
   "source": [
    "DT = DecisionTreeClassifier()\n",
    "params = {\n",
    "    'max_depth': [25, 50, 60, 70, 80, 90, 100],\n",
    "    'min_samples_leaf': [2, 4, 8, 10, 12, 15, 20],\n",
    "    'criterion': [\"gini\", \"entropy\"],\n",
    "    \n",
    "}\n",
    "\n",
    "grid = GridSearchCV(DT, params, cv = 5, scoring = 'accuracy', verbose=1, n_jobs=-1)\n",
    "grid.fit(X,y)\n",
    "print(grid.best_score_)\n",
    "print(grid.best_params_)\n",
    "print(grid.best_estimator_)"
   ]
  },
  {
   "cell_type": "code",
   "execution_count": 24,
   "metadata": {},
   "outputs": [
    {
     "name": "stdout",
     "output_type": "stream",
     "text": [
      "Accuracy : 0.8656046707657383\n",
      "Precision : 0.9019338050204724\n",
      "recall : 0.81967985595375\n",
      "f1 : 0.8238462762713237\n"
     ]
    }
   ],
   "source": [
    "model = grid.best_estimator_\n",
    "acc = cross_val_score(model, X, y, cv=5, scoring='accuracy').mean()\n",
    "f1 = cross_val_score(model, X, y, cv=5, scoring='f1').mean()\n",
    "precision = cross_val_score(model, X, y, cv=5, scoring='precision').mean()\n",
    "recall = cross_val_score(model, X, y, cv=5, scoring='recall').mean()\n",
    "\n",
    "print(\"Accuracy : {}\".format(acc))\n",
    "print(\"Precision : {}\".format(precision))\n",
    "print(\"recall : {}\".format(recall))\n",
    "print(\"f1 : {}\".format(f1))"
   ]
  },
  {
   "cell_type": "code",
   "execution_count": null,
   "metadata": {},
   "outputs": [],
   "source": []
  }
 ],
 "metadata": {
  "kernelspec": {
   "display_name": "Python 3",
   "language": "python",
   "name": "python3"
  },
  "language_info": {
   "codemirror_mode": {
    "name": "ipython",
    "version": 3
   },
   "file_extension": ".py",
   "mimetype": "text/x-python",
   "name": "python",
   "nbconvert_exporter": "python",
   "pygments_lexer": "ipython3",
   "version": "3.8.3"
  }
 },
 "nbformat": 4,
 "nbformat_minor": 4
}
